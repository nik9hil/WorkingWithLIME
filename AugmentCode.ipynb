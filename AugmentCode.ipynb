{
  "nbformat": 4,
  "nbformat_minor": 0,
  "metadata": {
    "colab": {
      "name": "AugmentCode.ipynb",
      "provenance": [],
      "include_colab_link": true
    },
    "kernelspec": {
      "name": "python3",
      "display_name": "Python 3"
    }
  },
  "cells": [
    {
      "cell_type": "markdown",
      "metadata": {
        "id": "view-in-github",
        "colab_type": "text"
      },
      "source": [
        "<a href=\"https://colab.research.google.com/github/nik9hil/WorkingWithLIME/blob/master/AugmentCode.ipynb\" target=\"_parent\"><img src=\"https://colab.research.google.com/assets/colab-badge.svg\" alt=\"Open In Colab\"/></a>"
      ]
    },
    {
      "cell_type": "code",
      "metadata": {
        "id": "JEnJ1ew6TMN3",
        "colab_type": "code",
        "outputId": "0a547ed6-eaa6-452e-f9f0-431923febe72",
        "colab": {
          "base_uri": "https://localhost:8080/",
          "height": 34
        }
      },
      "source": [
        "from google.colab import drive\n",
        "drive.mount('/content/drive')"
      ],
      "execution_count": 0,
      "outputs": [
        {
          "output_type": "stream",
          "text": [
            "Drive already mounted at /content/drive; to attempt to forcibly remount, call drive.mount(\"/content/drive\", force_remount=True).\n"
          ],
          "name": "stdout"
        }
      ]
    },
    {
      "cell_type": "code",
      "metadata": {
        "id": "yMbuuEaPlu7B",
        "colab_type": "code",
        "colab": {}
      },
      "source": [
        "from keras.preprocessing.image import ImageDataGenerator, img_to_array, load_img\n",
        "\n",
        "datagen = ImageDataGenerator(\n",
        "    rotation_range=40,\n",
        "    width_shift_range=0.2,\n",
        "    height_shift_range=0.2,\n",
        "    shear_range=0.2,\n",
        "    zoom_range=0.2,\n",
        "    horizontal_flip=True,\n",
        "    fill_mode='nearest')"
      ],
      "execution_count": 0,
      "outputs": []
    },
    {
      "cell_type": "code",
      "metadata": {
        "id": "UKaw2hcGnrO_",
        "colab_type": "code",
        "colab": {}
      },
      "source": [
        "img = load_img('/content/drive/My Drive/Colab Notebooks/civil/test/civil_aug8.jpg')  \n",
        "x = img_to_array(img)  # creating a Numpy array with shape (3, 150, 150)\n",
        "x = x.reshape((1,) + x.shape)  # converting to a Numpy array with shape (1, 3, 150, 150)"
      ],
      "execution_count": 0,
      "outputs": []
    },
    {
      "cell_type": "code",
      "metadata": {
        "id": "-aNMqdC2Q51J",
        "colab_type": "code",
        "colab": {}
      },
      "source": [
        "i = 0\n",
        "for batch in datagen.flow(x,save_to_dir='/content/drive/My Drive/Colab Notebooks/civil3', save_prefix='civ29', save_format='jpeg'):\n",
        "    i += 1\n",
        "    if i > 5:\n",
        "        break "
      ],
      "execution_count": 0,
      "outputs": []
    }
  ]
}